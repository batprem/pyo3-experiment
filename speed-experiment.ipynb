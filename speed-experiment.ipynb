{
 "cells": [
  {
   "cell_type": "code",
   "execution_count": 1,
   "id": "b249dc3a",
   "metadata": {},
   "outputs": [
    {
     "data": {
      "text/plain": [
       "[3, 4, 5]"
      ]
     },
     "execution_count": 1,
     "metadata": {},
     "output_type": "execute_result"
    }
   ],
   "source": [
    "def python_list_plus(list_of_num: list[int], b: int) -> list[int]:\n",
    "    for i in range(len(list_of_num)):\n",
    "        list_of_num[i] += b\n",
    "    return list_of_num\n",
    "\n",
    "python_list_plus([1,2,3], 2)"
   ]
  },
  {
   "cell_type": "code",
   "execution_count": 2,
   "id": "18fafb05",
   "metadata": {},
   "outputs": [
    {
     "data": {
      "text/plain": [
       "[3, 4, 5]"
      ]
     },
     "execution_count": 2,
     "metadata": {},
     "output_type": "execute_result"
    }
   ],
   "source": [
    "def python_list_plus_comprehensive(list_of_num: list[int], b: int) -> list[int]:\n",
    "    return [n + b for n in list_of_num]\n",
    "\n",
    "python_list_plus([1,2,3], 2)"
   ]
  },
  {
   "cell_type": "code",
   "execution_count": 3,
   "id": "0fae0bdd",
   "metadata": {},
   "outputs": [
    {
     "data": {
      "text/plain": [
       "[3, 4, 5]"
      ]
     },
     "execution_count": 3,
     "metadata": {},
     "output_type": "execute_result"
    }
   ],
   "source": [
    "from my_rust_python_module import plus_array as rust_list_plus\n",
    "\n",
    "rust_list_plus([1,2,3], 2)"
   ]
  },
  {
   "cell_type": "code",
   "execution_count": 4,
   "id": "34d24450",
   "metadata": {},
   "outputs": [],
   "source": [
    "import random\n",
    "\n",
    "\n",
    "sample = [random.randint(1, 100) for x in range(500_000_000)]"
   ]
  },
  {
   "cell_type": "code",
   "execution_count": 6,
   "id": "cf5ee42f",
   "metadata": {},
   "outputs": [
    {
     "name": "stdout",
     "output_type": "stream",
     "text": [
      "Run time: 18.3571560382843 second\n"
     ]
    }
   ],
   "source": [
    "import time\n",
    "copy_sample = sample.copy()\n",
    "\n",
    "\n",
    "start = time.time()\n",
    "python_results = python_list_plus(copy_sample, 2)\n",
    "end = time.time()\n",
    "capture = end - start\n",
    "\n",
    "print(f\"Run time: {capture} second\")"
   ]
  },
  {
   "cell_type": "code",
   "execution_count": 7,
   "id": "59b28d98",
   "metadata": {},
   "outputs": [
    {
     "name": "stdout",
     "output_type": "stream",
     "text": [
      "Run time: 10.49374532699585 second\n"
     ]
    }
   ],
   "source": [
    "copy_sample = sample.copy()\n",
    "\n",
    "start = time.time()\n",
    "rust_results = rust_list_plus(copy_sample, 2)\n",
    "end = time.time()\n",
    "capture = end - start\n",
    "print(f\"Run time: {capture} second\")"
   ]
  },
  {
   "cell_type": "code",
   "execution_count": 8,
   "id": "74cda363",
   "metadata": {},
   "outputs": [
    {
     "name": "stdout",
     "output_type": "stream",
     "text": [
      "Run time: 11.877691268920898 second\n"
     ]
    }
   ],
   "source": [
    "copy_sample = sample.copy()\n",
    "\n",
    "start = time.time()\n",
    "python_results = python_list_plus_comprehensive(copy_sample, 2)\n",
    "end = time.time()\n",
    "capture = end - start\n",
    "print(f\"Run time: {capture} second\")"
   ]
  },
  {
   "cell_type": "code",
   "execution_count": 9,
   "id": "303e7d4c",
   "metadata": {},
   "outputs": [
    {
     "name": "stdout",
     "output_type": "stream",
     "text": [
      "Help on built-in function plus_array in module my_rust_python_module.my_rust_python_module:\n",
      "\n",
      "plus_array(...)\n",
      "    plus_array(list_1, b, /)\n",
      "    --\n",
      "    \n",
      "    This function Plus for each element in list_1 by `b`\n",
      "\n"
     ]
    }
   ],
   "source": [
    "help(rust_list_plus)"
   ]
  }
 ],
 "metadata": {
  "kernelspec": {
   "display_name": "Python 3 (ipykernel)",
   "language": "python",
   "name": "python3"
  },
  "language_info": {
   "codemirror_mode": {
    "name": "ipython",
    "version": 3
   },
   "file_extension": ".py",
   "mimetype": "text/x-python",
   "name": "python",
   "nbconvert_exporter": "python",
   "pygments_lexer": "ipython3",
   "version": "3.11.5"
  }
 },
 "nbformat": 4,
 "nbformat_minor": 5
}
